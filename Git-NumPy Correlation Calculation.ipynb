{
 "cells": [
  {
   "cell_type": "markdown",
   "id": "adcd36ec",
   "metadata": {},
   "source": [
    "# NumPy Correlation Calculation"
   ]
  },
  {
   "cell_type": "markdown",
   "id": "f41b5562",
   "metadata": {},
   "source": [
    "#  Create an array x of integers between 10 (inclusive) and 20 (exclusive). Use np.arange()"
   ]
  },
  {
   "cell_type": "code",
   "execution_count": 2,
   "id": "22e8ef97",
   "metadata": {
    "scrolled": true
   },
   "outputs": [],
   "source": [
    "import numpy as np\n",
    "import pandas as pd\n",
    "from scipy import stats"
   ]
  },
  {
   "cell_type": "code",
   "execution_count": 3,
   "id": "c489cc69",
   "metadata": {},
   "outputs": [
    {
     "data": {
      "text/plain": [
       "array([10, 11, 12, 13, 14, 15, 16, 17, 18, 19])"
      ]
     },
     "execution_count": 3,
     "metadata": {},
     "output_type": "execute_result"
    }
   ],
   "source": [
    "x = np.arange(10,20)\n",
    "x"
   ]
  },
  {
   "cell_type": "markdown",
   "id": "3fc15792",
   "metadata": {},
   "source": [
    "# Then use np.array() to create a second array y containing 10 arbitrary integers."
   ]
  },
  {
   "cell_type": "code",
   "execution_count": 4,
   "id": "7ee1b533",
   "metadata": {},
   "outputs": [
    {
     "data": {
      "text/plain": [
       "array([ 1,  3,  4,  4,  6,  8,  9, 10,  7,  7])"
      ]
     },
     "execution_count": 4,
     "metadata": {},
     "output_type": "execute_result"
    }
   ],
   "source": [
    "y = np.array([1,3,4,4,6,8,9,10,7,7])\n",
    "y"
   ]
  },
  {
   "cell_type": "markdown",
   "id": "677fc5e9",
   "metadata": {},
   "source": [
    "# Once you have two arrays of the same length, you can compute the **correlation coefficient** between x and y"
   ]
  },
  {
   "cell_type": "code",
   "execution_count": 5,
   "id": "bb2d541c",
   "metadata": {},
   "outputs": [
    {
     "data": {
      "text/plain": [
       "array([[1.        , 0.83170436],\n",
       "       [0.83170436, 1.        ]])"
      ]
     },
     "execution_count": 5,
     "metadata": {},
     "output_type": "execute_result"
    }
   ],
   "source": [
    "r = np.corrcoef(x,y)\n",
    "r"
   ]
  }
 ],
 "metadata": {
  "kernelspec": {
   "display_name": "Python 3",
   "language": "python",
   "name": "python3"
  },
  "language_info": {
   "codemirror_mode": {
    "name": "ipython",
    "version": 3
   },
   "file_extension": ".py",
   "mimetype": "text/x-python",
   "name": "python",
   "nbconvert_exporter": "python",
   "pygments_lexer": "ipython3",
   "version": "3.8.8"
  }
 },
 "nbformat": 4,
 "nbformat_minor": 5
}
